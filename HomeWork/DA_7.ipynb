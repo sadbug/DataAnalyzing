{
 "cells": [
  {
   "cell_type": "code",
   "execution_count": 2,
   "metadata": {},
   "outputs": [
    {
     "name": "stdout",
     "output_type": "stream",
     "text": [
      "<bound method MarkovChain.__repr__ of Markov chain with transition matrix \n",
      "P = \n",
      "[[0.25       0.25       0.         0.         0.5       ]\n",
      " [0.33333333 0.         0.33333333 0.33333333 0.        ]\n",
      " [0.5        0.         0.         0.         0.5       ]\n",
      " [0.         0.         0.         0.5        0.5       ]\n",
      " [0.         0.         0.         1.         0.        ]]>\n"
     ]
    }
   ],
   "source": [
    "import quantecon as qe\n",
    "M=[[1/4, 1/4, 0.0, 0.0, 1/2],\n",
    "     [1/3, 0.0, 1/3, 1/3, 0.0],\n",
    "      [1/2, 0.0, 0.0, 0.0, 1/2],\n",
    "      [0.0, 0.0, 0.0, 1/2, 1/2],\n",
    "     [0.0, 0.0, 0.0, 1, 0.0]]\n",
    "mc=qe.MarkovChain(M)\n",
    "print(mc)"
   ]
  },
  {
   "cell_type": "code",
   "execution_count": 3,
   "metadata": {},
   "outputs": [
    {
     "data": {
      "text/plain": [
       "False"
      ]
     },
     "execution_count": 3,
     "metadata": {},
     "output_type": "execute_result"
    }
   ],
   "source": [
    "#Разложима матрица\n",
    "mc.is_irreducible"
   ]
  },
  {
   "cell_type": "code",
   "execution_count": 4,
   "metadata": {},
   "outputs": [
    {
     "data": {
      "text/plain": [
       "2"
      ]
     },
     "execution_count": 4,
     "metadata": {},
     "output_type": "execute_result"
    }
   ],
   "source": [
    "#Сообщающие классы\n",
    "mc.num_communication_classes"
   ]
  },
  {
   "cell_type": "code",
   "execution_count": 5,
   "metadata": {},
   "outputs": [
    {
     "data": {
      "text/plain": [
       "[array([3, 4], dtype=int64), array([0, 1, 2], dtype=int64)]"
      ]
     },
     "execution_count": 5,
     "metadata": {},
     "output_type": "execute_result"
    }
   ],
   "source": [
    "mc.communication_classes"
   ]
  },
  {
   "cell_type": "code",
   "execution_count": 6,
   "metadata": {},
   "outputs": [
    {
     "data": {
      "text/plain": [
       "[array([3, 4], dtype=int64)]"
      ]
     },
     "execution_count": 6,
     "metadata": {},
     "output_type": "execute_result"
    }
   ],
   "source": [
    "mc.recurrent_classes"
   ]
  },
  {
   "cell_type": "code",
   "execution_count": 7,
   "metadata": {},
   "outputs": [
    {
     "data": {
      "text/plain": [
       "True"
      ]
     },
     "execution_count": 7,
     "metadata": {},
     "output_type": "execute_result"
    }
   ],
   "source": [
    "#Опереодичность\n",
    "mc.is_aperiodic"
   ]
  },
  {
   "cell_type": "code",
   "execution_count": 8,
   "metadata": {},
   "outputs": [
    {
     "data": {
      "text/plain": [
       "1"
      ]
     },
     "execution_count": 8,
     "metadata": {},
     "output_type": "execute_result"
    }
   ],
   "source": [
    "#Период\n",
    "mc.period"
   ]
  },
  {
   "cell_type": "code",
   "execution_count": 9,
   "metadata": {},
   "outputs": [
    {
     "data": {
      "text/plain": [
       "array([0, 4, 3, 4, 3, 4, 3, 3, 3, 3, 4, 3])"
      ]
     },
     "execution_count": 9,
     "metadata": {},
     "output_type": "execute_result"
    }
   ],
   "source": [
    "mc.simulate(12,init=0)"
   ]
  },
  {
   "cell_type": "code",
   "execution_count": 10,
   "metadata": {},
   "outputs": [
    {
     "name": "stdout",
     "output_type": "stream",
     "text": [
      "<bound method MarkovChain.__repr__ of Markov chain with transition matrix \n",
      "P = \n",
      "[[0.33333333 0.66666667 0.         0.         0.         0.        ]\n",
      " [0.66666667 0.33333333 0.         0.         0.         0.        ]\n",
      " [0.         0.         0.25       0.75       0.         0.        ]\n",
      " [0.         0.         0.2        0.8        0.         0.        ]\n",
      " [0.25       0.         0.25       0.         0.25       0.25      ]\n",
      " [0.16666667 0.16666667 0.16666667 0.16666667 0.16666667 0.16666667]]>\n"
     ]
    }
   ],
   "source": [
    "#N2\n",
    "P = [[1/3, 2/3, 0.0, 0.0, 0.0, 0.0],\n",
    "     [2/3, 1/3, 0.0, 0.0, 0.0, 0.0],\n",
    "      [ 0.0, 0.0, 1/4, 3/4, 0.0, 0.0],\n",
    "      [0.0, 0.0, 1/5, 4/5, 0.0, 0.0],\n",
    "      [1/4, 0.0, 1/4, 0.0, 1/4, 1/4],\n",
    "     [1/6, 1/6, 1/6, 1/6, 1/6, 1/6]]\n",
    "mc2 = qe.MarkovChain(P)\n",
    "print(mc2)"
   ]
  },
  {
   "cell_type": "code",
   "execution_count": 11,
   "metadata": {},
   "outputs": [
    {
     "data": {
      "text/plain": [
       "False"
      ]
     },
     "execution_count": 11,
     "metadata": {},
     "output_type": "execute_result"
    }
   ],
   "source": [
    "mc2.is_irreducible"
   ]
  },
  {
   "cell_type": "code",
   "execution_count": 12,
   "metadata": {},
   "outputs": [
    {
     "data": {
      "text/plain": [
       "3"
      ]
     },
     "execution_count": 12,
     "metadata": {},
     "output_type": "execute_result"
    }
   ],
   "source": [
    "mc2.num_communication_classes"
   ]
  },
  {
   "cell_type": "code",
   "execution_count": 13,
   "metadata": {},
   "outputs": [
    {
     "data": {
      "text/plain": [
       "[array([0, 1], dtype=int64),\n",
       " array([2, 3], dtype=int64),\n",
       " array([4, 5], dtype=int64)]"
      ]
     },
     "execution_count": 13,
     "metadata": {},
     "output_type": "execute_result"
    }
   ],
   "source": [
    "mc2.communication_classes"
   ]
  },
  {
   "cell_type": "code",
   "execution_count": 14,
   "metadata": {},
   "outputs": [
    {
     "data": {
      "text/plain": [
       "[array([0, 1], dtype=int64), array([2, 3], dtype=int64)]"
      ]
     },
     "execution_count": 14,
     "metadata": {},
     "output_type": "execute_result"
    }
   ],
   "source": [
    "mc2.recurrent_classes"
   ]
  },
  {
   "cell_type": "code",
   "execution_count": 15,
   "metadata": {},
   "outputs": [
    {
     "data": {
      "text/plain": [
       "True"
      ]
     },
     "execution_count": 15,
     "metadata": {},
     "output_type": "execute_result"
    }
   ],
   "source": [
    "mc2.is_aperiodic"
   ]
  },
  {
   "cell_type": "code",
   "execution_count": 16,
   "metadata": {},
   "outputs": [
    {
     "data": {
      "text/plain": [
       "1"
      ]
     },
     "execution_count": 16,
     "metadata": {},
     "output_type": "execute_result"
    }
   ],
   "source": [
    "mc2.period"
   ]
  },
  {
   "cell_type": "code",
   "execution_count": 17,
   "metadata": {},
   "outputs": [
    {
     "data": {
      "text/plain": [
       "array([2, 2, 3, 3, 3, 3, 2, 3, 3, 3, 3, 3])"
      ]
     },
     "execution_count": 17,
     "metadata": {},
     "output_type": "execute_result"
    }
   ],
   "source": [
    "mc2.simulate(12, init=2)"
   ]
  },
  {
   "cell_type": "code",
   "execution_count": 18,
   "metadata": {},
   "outputs": [
    {
     "name": "stdout",
     "output_type": "stream",
     "text": [
      "<bound method MarkovChain.__repr__ of Markov chain with transition matrix \n",
      "P = \n",
      "[[0.   0.5  0.   0.5  0.   0.   0.  ]\n",
      " [0.75 0.   0.25 0.   0.   0.   0.  ]\n",
      " [0.   0.   0.   0.   0.   0.   1.  ]\n",
      " [0.25 0.25 0.   0.5  0.   0.   0.  ]\n",
      " [0.   0.   0.   0.   0.5  0.5  0.  ]\n",
      " [0.   0.   0.   0.   0.25 0.75 0.  ]\n",
      " [0.   0.   1.   0.   0.   0.   0.  ]]>\n"
     ]
    }
   ],
   "source": [
    "#N3\n",
    "P1 = [[0.0, 1/2, 0.0, 1/2, 0.0, 0.0, 0.0],\n",
    "     [3/4, 0.0, 1/4, 0.0, 0.0, 0.0, 0.0],\n",
    "      [ 0.0, 0.0, 0.0, 0.0, 0.0, 0.0, 1],\n",
    "      [1/4, 1/4, 0.0, 1/2, 0.0, 0.0, 0.0],\n",
    "      [0.0, 0.0, 0.0, 0.0, 1/2, 1/2, 0.0],\n",
    "     [0.0, 0.0, 0.0, 0.0,  1/4, 3/4, 0.0],\n",
    "     [0.0, 0.0, 1, 0.0, 0.0, 0.0, 0.0]]\n",
    "mc3 = qe.MarkovChain(P1)\n",
    "print(mc3)"
   ]
  },
  {
   "cell_type": "code",
   "execution_count": 19,
   "metadata": {},
   "outputs": [
    {
     "data": {
      "text/plain": [
       "False"
      ]
     },
     "execution_count": 19,
     "metadata": {},
     "output_type": "execute_result"
    }
   ],
   "source": [
    "mc3.is_irreducible"
   ]
  },
  {
   "cell_type": "code",
   "execution_count": 20,
   "metadata": {},
   "outputs": [
    {
     "data": {
      "text/plain": [
       "3"
      ]
     },
     "execution_count": 20,
     "metadata": {},
     "output_type": "execute_result"
    }
   ],
   "source": [
    "mc3.num_communication_classes"
   ]
  },
  {
   "cell_type": "code",
   "execution_count": 21,
   "metadata": {},
   "outputs": [
    {
     "data": {
      "text/plain": [
       "[array([2, 6], dtype=int64),\n",
       " array([0, 1, 3], dtype=int64),\n",
       " array([4, 5], dtype=int64)]"
      ]
     },
     "execution_count": 21,
     "metadata": {},
     "output_type": "execute_result"
    }
   ],
   "source": [
    "mc3.communication_classes"
   ]
  },
  {
   "cell_type": "code",
   "execution_count": 22,
   "metadata": {},
   "outputs": [
    {
     "data": {
      "text/plain": [
       "[array([2, 6], dtype=int64), array([4, 5], dtype=int64)]"
      ]
     },
     "execution_count": 22,
     "metadata": {},
     "output_type": "execute_result"
    }
   ],
   "source": [
    "mc3.recurrent_classes"
   ]
  },
  {
   "cell_type": "code",
   "execution_count": 23,
   "metadata": {},
   "outputs": [
    {
     "data": {
      "text/plain": [
       "False"
      ]
     },
     "execution_count": 23,
     "metadata": {},
     "output_type": "execute_result"
    }
   ],
   "source": [
    "mc3.is_aperiodic"
   ]
  },
  {
   "cell_type": "code",
   "execution_count": 24,
   "metadata": {},
   "outputs": [
    {
     "data": {
      "text/plain": [
       "2"
      ]
     },
     "execution_count": 24,
     "metadata": {},
     "output_type": "execute_result"
    }
   ],
   "source": [
    "mc3.period"
   ]
  },
  {
   "cell_type": "markdown",
   "metadata": {},
   "source": [
    "Рассмотрим состояния банка, характеризующиеся одной из процентных ставок: 12%, 13%, 14%, которые устанавливаются в начале каждого квартала и фиксированы на всем его протяжении. Таким образом, если за систему S принять действующую процентную ставку, то она в каждый момент времени может находиться только в одном из состояний: s1 – процентная ставка 12%, s2 – процентная ставка 13%, s3 – процентная ставка 14%. Анализ работы банка в предшествующие годы показал, что изменение переходных вероятностей с течением времени пренебрежимо мало. Определить распределение вероятностей состояний системы в конце года, если в конце предыдущего года процентная ставка составила 13%, а граф вероятностей переходов имеетвид"
   ]
  },
  {
   "cell_type": "code",
   "execution_count": 27,
   "metadata": {},
   "outputs": [
    {
     "name": "stdout",
     "output_type": "stream",
     "text": [
      "<bound method MarkovChain.__repr__ of Markov chain with transition matrix \n",
      "P = \n",
      "[[0.4 0.4 0.2]\n",
      " [0.2 0.5 0.3]\n",
      " [0.1 0.3 0.6]]>\n"
     ]
    }
   ],
   "source": [
    "import numpy as np\n",
    "P3 = np.array([[0.4, 0.4, 0.2],\n",
    "     [0.2, 0.5, 0.3],\n",
    "     [0.1, 0.3, 0.6]])\n",
    "mc4 = qe.MarkovChain(P3)\n",
    "print(mc4)"
   ]
  },
  {
   "cell_type": "code",
   "execution_count": 28,
   "metadata": {},
   "outputs": [
    {
     "data": {
      "text/plain": [
       "array([[0.2, 0.4, 0.4]])"
      ]
     },
     "execution_count": 28,
     "metadata": {},
     "output_type": "execute_result"
    }
   ],
   "source": [
    "mc4.stationary_distributions"
   ]
  },
  {
   "cell_type": "code",
   "execution_count": 29,
   "metadata": {},
   "outputs": [
    {
     "data": {
      "text/plain": [
       "True"
      ]
     },
     "execution_count": 29,
     "metadata": {},
     "output_type": "execute_result"
    }
   ],
   "source": [
    "mc4.is_aperiodic"
   ]
  },
  {
   "cell_type": "code",
   "execution_count": 30,
   "metadata": {},
   "outputs": [
    {
     "data": {
      "text/plain": [
       "1"
      ]
     },
     "execution_count": 30,
     "metadata": {},
     "output_type": "execute_result"
    }
   ],
   "source": [
    "mc4.period"
   ]
  },
  {
   "cell_type": "code",
   "execution_count": 31,
   "metadata": {},
   "outputs": [
    {
     "data": {
      "text/plain": [
       "array([0.38, 0.4 , 0.2 ])"
      ]
     },
     "execution_count": 31,
     "metadata": {},
     "output_type": "execute_result"
    }
   ],
   "source": [
    "p3 = np.array([[0.1, 0.0, 0.8],\n",
    "     [0.7, 0.2, 0.1],\n",
    "     [0.2, 0.8, 0.0]])\n",
    "ψ = (0.2, 0.4, 0.4)\n",
    "y=ψ @ p3\n",
    "y"
   ]
  },
  {
   "cell_type": "markdown",
   "metadata": {},
   "source": [
    "Визуализация модели"
   ]
  },
  {
   "cell_type": "code",
   "execution_count": 36,
   "metadata": {},
   "outputs": [
    {
     "data": {
      "text/plain": [
       "NodeView(('a', 'b', 'c'))"
      ]
     },
     "execution_count": 36,
     "metadata": {},
     "output_type": "execute_result"
    }
   ],
   "source": [
    "import networkx\n",
    "from networkx import *\n",
    "\n",
    "gr = Graph()\n",
    "gr\n",
    "gr.add_node('a')\n",
    "gr.add_node('b')\n",
    "gr.add_node('c')\n",
    "\n",
    "gr.nodes()"
   ]
  },
  {
   "cell_type": "code",
   "execution_count": 37,
   "metadata": {},
   "outputs": [
    {
     "data": {
      "image/png": "[encoded data removed]",
      "text/plain": [
       "<Figure size 432x288 with 1 Axes>"
      ]
     },
     "metadata": {},
     "output_type": "display_data"
    }
   ],
   "source": [
    "def add_edge(f_item, s_item, graph=None):\n",
    "  gr.add_edge(f_item, s_item)\n",
    "  gr.add_edge(s_item, f_item)\n",
    "    \n",
    "add_edge('a', 'b', graph=graph)\n",
    "add_edge('b', 'c', graph=graph)\n",
    "add_edge('b', 'd', graph=graph)\n",
    "add_edge('b', 'e', graph=graph)\n",
    "add_edge('a', 'a', graph=graph)\n",
    "\n",
    "nx.draw_circular(gr,\n",
    "         node_color='green',\n",
    "         node_size=1000,\n",
    "         with_labels=True)    "
   ]
  }
 ],
 "metadata": {
  "kernelspec": {
   "display_name": "Python 3",
   "language": "python",
   "name": "python3"
  },
  "language_info": {
   "codemirror_mode": {
    "name": "ipython",
    "version": 3
   },
   "file_extension": ".py",
   "mimetype": "text/x-python",
   "name": "python",
   "nbconvert_exporter": "python",
   "pygments_lexer": "ipython3",
   "version": "3.7.3"
  }
 },
 "nbformat": 4,
 "nbformat_minor": 2
}
