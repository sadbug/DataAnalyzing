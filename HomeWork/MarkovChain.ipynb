{
 "cells": [
  {
   "cell_type": "code",
   "execution_count": 2,
   "metadata": {},
   "outputs": [
    {
     "name": "stdout",
     "output_type": "stream",
     "text": [
      "Collecting quantecon\n",
      "  Downloading https://files.pythonhosted.org/packages/72/15/7649ba1f5ad5adc78efbda71d5f1dd15f0edf4a0dead41ba048b7d7e5335/quantecon-0.4.7-py3-none-any.whl (229kB)\n",
      "Requirement already satisfied: numba>=0.38 in c:\\users\\stwer1998\\anaconda3\\lib\\site-packages (from quantecon) (0.44.1)\n",
      "Requirement already satisfied: requests in c:\\users\\stwer1998\\anaconda3\\lib\\site-packages (from quantecon) (2.22.0)\n",
      "Requirement already satisfied: numpy in c:\\users\\stwer1998\\anaconda3\\lib\\site-packages (from quantecon) (1.16.4)\n",
      "Requirement already satisfied: sympy in c:\\users\\stwer1998\\anaconda3\\lib\\site-packages (from quantecon) (1.4)\n",
      "Requirement already satisfied: scipy>=1.0.0 in c:\\users\\stwer1998\\anaconda3\\lib\\site-packages (from quantecon) (1.2.1)\n",
      "Requirement already satisfied: llvmlite>=0.29.0 in c:\\users\\stwer1998\\anaconda3\\lib\\site-packages (from numba>=0.38->quantecon) (0.29.0)\n",
      "Requirement already satisfied: chardet<3.1.0,>=3.0.2 in c:\\users\\stwer1998\\anaconda3\\lib\\site-packages (from requests->quantecon) (3.0.4)\n",
      "Requirement already satisfied: certifi>=2017.4.17 in c:\\users\\stwer1998\\anaconda3\\lib\\site-packages (from requests->quantecon) (2019.6.16)\n",
      "Requirement already satisfied: urllib3!=1.25.0,!=1.25.1,<1.26,>=1.21.1 in c:\\users\\stwer1998\\anaconda3\\lib\\site-packages (from requests->quantecon) (1.24.2)\n",
      "Requirement already satisfied: idna<2.9,>=2.5 in c:\\users\\stwer1998\\anaconda3\\lib\\site-packages (from requests->quantecon) (2.8)\n",
      "Requirement already satisfied: mpmath>=0.19 in c:\\users\\stwer1998\\anaconda3\\lib\\site-packages (from sympy->quantecon) (1.1.0)\n",
      "Installing collected packages: quantecon\n",
      "Successfully installed quantecon-0.4.7\n",
      "Note: you may need to restart the kernel to use updated packages.\n"
     ]
    }
   ],
   "source": [
    "pip install quantecon"
   ]
  },
  {
   "cell_type": "code",
   "execution_count": 3,
   "metadata": {},
   "outputs": [],
   "source": [
    "import quantecon as qe\n",
    "import numpy as np\n",
    "from mpl_toolkits.mplot3d import Axes3D\n",
    "import matplotlib.pyplot as plt\n",
    "\n",
    "%matplotlib inline"
   ]
  },
  {
   "cell_type": "code",
   "execution_count": 4,
   "metadata": {},
   "outputs": [],
   "source": [
    "P = [[0.25, 0.25, 0.0, 0.0, 0.5],\n",
    "     [1/3, 0.0, 1/3, 1/3, 0.0],\n",
    "      [1/2, 0.0, 0.0, 0.0, 1/2],\n",
    "      [0.0, 0.0, 0.0, 1/2, 1/2],\n",
    "     [0.0, 0.0, 0.0, 1, 0.0]]"
   ]
  },
  {
   "cell_type": "code",
   "execution_count": 5,
   "metadata": {},
   "outputs": [
    {
     "name": "stdout",
     "output_type": "stream",
     "text": [
      "<bound method MarkovChain.__repr__ of Markov chain with transition matrix \n",
      "P = \n",
      "[[0.25       0.25       0.         0.         0.5       ]\n",
      " [0.33333333 0.         0.33333333 0.33333333 0.        ]\n",
      " [0.5        0.         0.         0.         0.5       ]\n",
      " [0.         0.         0.         0.5        0.5       ]\n",
      " [0.         0.         0.         1.         0.        ]]>\n"
     ]
    }
   ],
   "source": [
    "mc1 = qe.MarkovChain(P)\n",
    "print(mc1)"
   ]
  },
  {
   "cell_type": "markdown",
   "metadata": {},
   "source": [
    "Классификация: стохастическая матрица 𝑃 is называется неприводимой(неразложимой) если все состояния сообщающиеся, то есть в конечном итоге мы можем достичь любого состояния из любого другого состояния. - неразложима"
   ]
  },
  {
   "cell_type": "code",
   "execution_count": 6,
   "metadata": {},
   "outputs": [
    {
     "data": {
      "text/plain": [
       "False"
      ]
     },
     "execution_count": 6,
     "metadata": {},
     "output_type": "execute_result"
    }
   ],
   "source": [
    "mc1.is_irreducible"
   ]
  },
  {
   "cell_type": "code",
   "execution_count": 7,
   "metadata": {},
   "outputs": [
    {
     "data": {
      "text/plain": [
       "2"
      ]
     },
     "execution_count": 7,
     "metadata": {},
     "output_type": "execute_result"
    }
   ],
   "source": [
    "#сообщающиеся классы - их 2\n",
    "mc1.num_communication_classes"
   ]
  },
  {
   "cell_type": "code",
   "execution_count": 8,
   "metadata": {},
   "outputs": [
    {
     "data": {
      "text/plain": [
       "[array([3, 4], dtype=int64), array([0, 1, 2], dtype=int64)]"
      ]
     },
     "execution_count": 8,
     "metadata": {},
     "output_type": "execute_result"
    }
   ],
   "source": [
    "mc1.communication_classes"
   ]
  },
  {
   "cell_type": "code",
   "execution_count": 9,
   "metadata": {},
   "outputs": [
    {
     "data": {
      "text/plain": [
       "[array([3, 4], dtype=int64)]"
      ]
     },
     "execution_count": 9,
     "metadata": {},
     "output_type": "execute_result"
    }
   ],
   "source": [
    "mc1.recurrent_classes"
   ]
  },
  {
   "cell_type": "code",
   "execution_count": 10,
   "metadata": {},
   "outputs": [
    {
     "data": {
      "text/plain": [
       "array([[0.        , 0.        , 0.        , 0.66666667, 0.33333333]])"
      ]
     },
     "execution_count": 10,
     "metadata": {},
     "output_type": "execute_result"
    }
   ],
   "source": [
    "mc1.stationary_distributions"
   ]
  },
  {
   "cell_type": "code",
   "execution_count": 11,
   "metadata": {},
   "outputs": [
    {
     "data": {
      "text/plain": [
       "1"
      ]
     },
     "execution_count": 11,
     "metadata": {},
     "output_type": "execute_result"
    }
   ],
   "source": [
    "#Периодичность\n",
    "mc1.period"
   ]
  },
  {
   "cell_type": "code",
   "execution_count": 12,
   "metadata": {},
   "outputs": [],
   "source": [
    "P2 = [[1/3, 2/3, 0.0, 0.0, 0.0, 0.0],\n",
    "     [2/3, 1/3, 0.0, 0.0, 0.0, 0.0],\n",
    "      [ 0.0, 0.0, 1/4, 3/4, 0.0, 0.0],\n",
    "      [0.0, 0.0, 1/5, 4/5, 0.0, 0.0],\n",
    "      [1/4, 0.0, 1/4, 0.0, 1/4, 1/4],\n",
    "     [1/6, 1/6, 1/6, 1/6, 1/6, 1/6]]"
   ]
  },
  {
   "cell_type": "code",
   "execution_count": 13,
   "metadata": {},
   "outputs": [
    {
     "name": "stdout",
     "output_type": "stream",
     "text": [
      "<bound method MarkovChain.__repr__ of Markov chain with transition matrix \n",
      "P = \n",
      "[[0.33333333 0.66666667 0.         0.         0.         0.        ]\n",
      " [0.66666667 0.33333333 0.         0.         0.         0.        ]\n",
      " [0.         0.         0.25       0.75       0.         0.        ]\n",
      " [0.         0.         0.2        0.8        0.         0.        ]\n",
      " [0.25       0.         0.25       0.         0.25       0.25      ]\n",
      " [0.16666667 0.16666667 0.16666667 0.16666667 0.16666667 0.16666667]]>\n"
     ]
    }
   ],
   "source": [
    "mc2 = qe.MarkovChain(P2)\n",
    "print(mc2)"
   ]
  },
  {
   "cell_type": "code",
   "execution_count": 14,
   "metadata": {},
   "outputs": [
    {
     "data": {
      "text/plain": [
       "False"
      ]
     },
     "execution_count": 14,
     "metadata": {},
     "output_type": "execute_result"
    }
   ],
   "source": [
    "mc2.is_irreducible"
   ]
  },
  {
   "cell_type": "code",
   "execution_count": 15,
   "metadata": {},
   "outputs": [
    {
     "data": {
      "text/plain": [
       "3"
      ]
     },
     "execution_count": 15,
     "metadata": {},
     "output_type": "execute_result"
    }
   ],
   "source": [
    "mc2.num_communication_classes"
   ]
  },
  {
   "cell_type": "code",
   "execution_count": 16,
   "metadata": {},
   "outputs": [
    {
     "data": {
      "text/plain": [
       "[array([0, 1], dtype=int64), array([2, 3], dtype=int64)]"
      ]
     },
     "execution_count": 16,
     "metadata": {},
     "output_type": "execute_result"
    }
   ],
   "source": [
    "mc2.recurrent_classes"
   ]
  },
  {
   "cell_type": "code",
   "execution_count": 17,
   "metadata": {},
   "outputs": [
    {
     "data": {
      "text/plain": [
       "array([[0.5       , 0.5       , 0.        , 0.        , 0.        ,\n",
       "        0.        ],\n",
       "       [0.        , 0.        , 0.21052632, 0.78947368, 0.        ,\n",
       "        0.        ]])"
      ]
     },
     "execution_count": 17,
     "metadata": {},
     "output_type": "execute_result"
    }
   ],
   "source": [
    "mc2.stationary_distributions"
   ]
  },
  {
   "cell_type": "markdown",
   "metadata": {},
   "source": [
    "Рассмотрим состояния банка, характеризующиеся одной из процентных ставок: 12%, 13%, 14%, которые устанавливаются в начале каждого квартала и фиксированы на всем его протяжении. Таким образом, если за систему S принять действующую процентную ставку, то она в каждый момент времени может находиться только в одном из состояний: s1 – процентная ставка 12%, s2 – процентная ставка 13%, s3 – процентная ставка 14%. Анализ работы банка в предшествующие годы показал, что изменение переходных вероятностей с течением времени пренебрежимо мало. Определить распределение вероятностей состояний системы в конце года, если в конце предыдущего года процентная ставка составила 13%, а граф вероятностей переходов имеетвид"
   ]
  },
  {
   "cell_type": "code",
   "execution_count": 18,
   "metadata": {},
   "outputs": [],
   "source": [
    "#Матрица переходных вероятностей\n",
    "P3 = np.array([[0.4, 0.4, 0.2],\n",
    "     [0.2, 0.5, 0.3],\n",
    "     [0.1, 0.3, 0.6]])"
   ]
  },
  {
   "cell_type": "code",
   "execution_count": 19,
   "metadata": {},
   "outputs": [
    {
     "data": {
      "text/plain": [
       "array([[0.2, 0.4, 0.4]])"
      ]
     },
     "execution_count": 19,
     "metadata": {},
     "output_type": "execute_result"
    }
   ],
   "source": [
    "#Вычислим вектор начального распределения\n",
    "mc = qe.MarkovChain(P3)\n",
    "mc.stationary_distributions"
   ]
  },
  {
   "cell_type": "code",
   "execution_count": 20,
   "metadata": {},
   "outputs": [
    {
     "data": {
      "text/plain": [
       "True"
      ]
     },
     "execution_count": 20,
     "metadata": {},
     "output_type": "execute_result"
    }
   ],
   "source": [
    "#Проверим периодичность\n",
    "mc.is_aperiodic"
   ]
  },
  {
   "cell_type": "code",
   "execution_count": 21,
   "metadata": {},
   "outputs": [
    {
     "data": {
      "text/plain": [
       "1"
      ]
     },
     "execution_count": 21,
     "metadata": {},
     "output_type": "execute_result"
    }
   ],
   "source": [
    "#Посмотрим кол-во периодов\n",
    "mc.period"
   ]
  },
  {
   "cell_type": "code",
   "execution_count": 22,
   "metadata": {},
   "outputs": [
    {
     "data": {
      "text/plain": [
       "array([0.38, 0.4 , 0.2 ])"
      ]
     },
     "execution_count": 22,
     "metadata": {},
     "output_type": "execute_result"
    }
   ],
   "source": [
    "p = np.array([[0.1, 0.0, 0.8],\n",
    "     [0.7, 0.2, 0.1],\n",
    "     [0.2, 0.8, 0.0]])\n",
    "\n",
    "\n",
    "ψ = (0.2, 0.4, 0.4)\n",
    "y=ψ @ p\n",
    "y"
   ]
  },
  {
   "cell_type": "code",
   "execution_count": 24,
   "metadata": {},
   "outputs": [
    {
     "name": "stdout",
     "output_type": "stream",
     "text": [
      "Collecting package metadata (current_repodata.json): ...working... done\n",
      "Solving environment: ...working... done\n",
      "\n",
      "## Package Plan ##\n",
      "\n",
      "  environment location: C:\\Users\\stwer1998\\Anaconda3\n",
      "\n",
      "  added / updated specs:\n",
      "    - networkx\n",
      "\n",
      "\n",
      "The following packages will be downloaded:\n",
      "\n",
      "    package                    |            build\n",
      "    ---------------------------|-----------------\n",
      "    conda-4.8.3                |           py37_0         2.8 MB\n",
      "    ------------------------------------------------------------\n",
      "                                           Total:         2.8 MB\n",
      "\n",
      "The following packages will be UPDATED:\n",
      "\n",
      "  conda                                       4.7.10-py37_0 --> 4.8.3-py37_0\n",
      "\n",
      "\n",
      "\n",
      "Downloading and Extracting Packages\n",
      "\n",
      "conda-4.8.3          | 2.8 MB    |            |   0% \n",
      "conda-4.8.3          | 2.8 MB    |            |   1% \n",
      "conda-4.8.3          | 2.8 MB    | 1          |   2% \n",
      "conda-4.8.3          | 2.8 MB    | 6          |   7% \n",
      "conda-4.8.3          | 2.8 MB    | #          |  10% \n",
      "conda-4.8.3          | 2.8 MB    | #2         |  13% \n",
      "conda-4.8.3          | 2.8 MB    | #5         |  16% \n",
      "conda-4.8.3          | 2.8 MB    | ##         |  21% \n",
      "conda-4.8.3          | 2.8 MB    | ##8        |  28% \n",
      "conda-4.8.3          | 2.8 MB    | ####       |  40% \n",
      "conda-4.8.3          | 2.8 MB    | ####4      |  45% \n",
      "conda-4.8.3          | 2.8 MB    | ####8      |  48% \n",
      "conda-4.8.3          | 2.8 MB    | #####4     |  54% \n",
      "conda-4.8.3          | 2.8 MB    | #####8     |  59% \n",
      "conda-4.8.3          | 2.8 MB    | ######4    |  64% \n",
      "conda-4.8.3          | 2.8 MB    | #######2   |  72% \n",
      "conda-4.8.3          | 2.8 MB    | #######7   |  78% \n",
      "conda-4.8.3          | 2.8 MB    | ########2  |  82% \n",
      "conda-4.8.3          | 2.8 MB    | ########6  |  87% \n",
      "conda-4.8.3          | 2.8 MB    | #########1 |  91% \n",
      "conda-4.8.3          | 2.8 MB    | #########5 |  96% \n",
      "conda-4.8.3          | 2.8 MB    | ########## | 100% \n",
      "Preparing transaction: ...working... done\n",
      "Verifying transaction: ...working... done\n",
      "Executing transaction: ...working... done\n",
      "\n",
      "Note: you may need to restart the kernel to use updated packages.\n"
     ]
    }
   ],
   "source": [
    "conda install networkx"
   ]
  },
  {
   "cell_type": "code",
   "execution_count": 25,
   "metadata": {},
   "outputs": [],
   "source": [
    "import itertools\n",
    "import networkx as nx\n",
    "import numpy.random as rnd"
   ]
  },
  {
   "cell_type": "code",
   "execution_count": 27,
   "metadata": {},
   "outputs": [
    {
     "data": {
      "text/plain": [
       "NodeView(('A', 'B', 'C'))"
      ]
     },
     "execution_count": 27,
     "metadata": {},
     "output_type": "execute_result"
    }
   ],
   "source": [
    "graph = nx.Graph()\n",
    "graph.add_node('A')\n",
    "graph.add_node('B')\n",
    "graph.add_node('C')\n",
    "\n",
    "graph.nodes()"
   ]
  },
  {
   "cell_type": "code",
   "execution_count": 28,
   "metadata": {},
   "outputs": [
    {
     "name": "stderr",
     "output_type": "stream",
     "text": [
      "C:\\Users\\stwer1998\\Anaconda3\\lib\\site-packages\\networkx\\drawing\\nx_pylab.py:579: MatplotlibDeprecationWarning: \n",
      "The iterable function was deprecated in Matplotlib 3.1 and will be removed in 3.3. Use np.iterable instead.\n",
      "  if not cb.iterable(width):\n"
     ]
    },
    {
     "data": {
      "image/png": "[encoded data removed]",
      "text/plain": [
       "<Figure size 432x288 with 1 Axes>"
      ]
     },
     "metadata": {},
     "output_type": "display_data"
    }
   ],
   "source": [
    "def add_edge(f_item, s_item, graph=None):\n",
    "  graph.add_edge(f_item, s_item)\n",
    "  graph.add_edge(s_item, f_item)\n",
    "\n",
    "add_edge('A', 'B', graph=graph)\n",
    "add_edge('B', 'C', graph=graph)\n",
    "add_edge('B', 'D', graph=graph)\n",
    "add_edge('D', 'E', graph=graph)\n",
    "\n",
    "nx.draw_circular(graph,\n",
    "         node_color='red',\n",
    "         node_size=1000,\n",
    "         with_labels=True)"
   ]
  },
  {
   "cell_type": "code",
   "execution_count": 29,
   "metadata": {},
   "outputs": [],
   "source": [
    "cities = {'A':(0, 20),\n",
    "     'B':(15, 24),\n",
    "     'C':(16, 41),\n",
    "     'D':(10, 40)}\n",
    "\n",
    "graph = nx.Graph()\n",
    "graph.add_nodes_from(cities)\n",
    "\n",
    "kilometres = {('A', 'B', 15),\n",
    "              ('B', 'C', 16),\n",
    "              ('B', 'D', 25),\n",
    "              ('C', 'D', 14),\n",
    "              ('D', 'A', 18)}\n",
    "\n",
    "graph.add_weighted_edges_from(kilometres)"
   ]
  },
  {
   "cell_type": "code",
   "execution_count": 30,
   "metadata": {},
   "outputs": [
    {
     "data": {
      "image/png": "[encoded data removed]",
      "text/plain": [
       "<Figure size 432x288 with 1 Axes>"
      ]
     },
     "metadata": {},
     "output_type": "display_data"
    }
   ],
   "source": [
    "nx.draw_circular(graph,\n",
    "         node_color='red',\n",
    "         node_size=1000,\n",
    "         with_labels=True)"
   ]
  },
  {
   "cell_type": "code",
   "execution_count": null,
   "metadata": {},
   "outputs": [],
   "source": []
  }
 ],
 "metadata": {
  "kernelspec": {
   "display_name": "Python 3",
   "language": "python",
   "name": "python3"
  },
  "language_info": {
   "codemirror_mode": {
    "name": "ipython",
    "version": 3
   },
   "file_extension": ".py",
   "mimetype": "text/x-python",
   "name": "python",
   "nbconvert_exporter": "python",
   "pygments_lexer": "ipython3",
   "version": "3.7.3"
  }
 },
 "nbformat": 4,
 "nbformat_minor": 2
}
